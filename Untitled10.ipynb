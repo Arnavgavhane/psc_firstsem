{
 "cells": [
  {
   "cell_type": "code",
   "execution_count": 3,
   "id": "29bca51a-8a48-448b-969d-b4d963bf33b6",
   "metadata": {},
   "outputs": [],
   "source": [
    "s= \"this is My first Python programming class and i am learNING python string and its function\""
   ]
  },
  {
   "cell_type": "markdown",
   "id": "fb05a883-b59d-4b70-b92e-f17a266123a9",
   "metadata": {},
   "source": [
    "# 1. Try to extract data from index one to index 300 with a jump of 3 "
   ]
  },
  {
   "cell_type": "code",
   "execution_count": 4,
   "id": "917c7f80-a0b3-4ebe-93c6-ae96750ccb72",
   "metadata": {},
   "outputs": [
    {
     "data": {
      "text/plain": [
       "'h   r tnrrmglsnimeNGyosi dtfco'"
      ]
     },
     "execution_count": 4,
     "metadata": {},
     "output_type": "execute_result"
    }
   ],
   "source": [
    "s[1:301:3]"
   ]
  },
  {
   "cell_type": "markdown",
   "id": "0f87f7d7-dd50-44ac-a028-bd43551e6645",
   "metadata": {},
   "source": [
    "# 2. Try to reverse a string without using reverse function "
   ]
  },
  {
   "cell_type": "code",
   "execution_count": 5,
   "id": "3c6cc5f0-f518-463e-a864-e0a6882c0049",
   "metadata": {},
   "outputs": [
    {
     "data": {
      "text/plain": [
       "'noitcnuf sti dna gnirts nohtyp GNINrael ma i dna ssalc gnimmargorp nohtyP tsrif yM si siht'"
      ]
     },
     "execution_count": 5,
     "metadata": {},
     "output_type": "execute_result"
    }
   ],
   "source": [
    "s[::-1]"
   ]
  },
  {
   "cell_type": "markdown",
   "id": "0082f82e-e255-4a43-bad2-46b9b17deb27",
   "metadata": {},
   "source": [
    "# 3. Try to split a string after conversion of entire string in uppercase"
   ]
  },
  {
   "cell_type": "code",
   "execution_count": 8,
   "id": "2a1db372-a50e-4ee3-9e89-3fe0cc19ee54",
   "metadata": {},
   "outputs": [
    {
     "data": {
      "text/plain": [
       "['THIS',\n",
       " 'IS',\n",
       " 'MY',\n",
       " 'FIRST',\n",
       " 'PYTHON',\n",
       " 'PROGRAMMING',\n",
       " 'CLASS',\n",
       " 'AND',\n",
       " 'I',\n",
       " 'AM',\n",
       " 'LEARNING',\n",
       " 'PYTHON',\n",
       " 'STRING',\n",
       " 'AND',\n",
       " 'ITS',\n",
       " 'FUNCTION']"
      ]
     },
     "execution_count": 8,
     "metadata": {},
     "output_type": "execute_result"
    }
   ],
   "source": [
    "s.upper().split() #s1=s.upper() #s.split()"
   ]
  },
  {
   "cell_type": "markdown",
   "id": "fb38ca6c-9a29-4e8f-84ef-3eee71c5545c",
   "metadata": {},
   "source": [
    "# 4. Try to convert the whole string into lower case"
   ]
  },
  {
   "cell_type": "code",
   "execution_count": 9,
   "id": "86be9f03-0c4e-40cb-a63c-58eb3b89726d",
   "metadata": {},
   "outputs": [
    {
     "data": {
      "text/plain": [
       "'this is my first python programming class and i am learning python string and its function'"
      ]
     },
     "execution_count": 9,
     "metadata": {},
     "output_type": "execute_result"
    }
   ],
   "source": [
    "s.lower()"
   ]
  },
  {
   "cell_type": "markdown",
   "id": "22b532fb-a0d9-42b6-997d-2d933bab0b31",
   "metadata": {},
   "source": [
    "# 5.Try to capitalize the whole string"
   ]
  },
  {
   "cell_type": "code",
   "execution_count": 10,
   "id": "10ed7953-5654-46d4-9644-69c49242dc38",
   "metadata": {},
   "outputs": [
    {
     "data": {
      "text/plain": [
       "'This is my first python programming class and i am learning python string and its function'"
      ]
     },
     "execution_count": 10,
     "metadata": {},
     "output_type": "execute_result"
    }
   ],
   "source": [
    "s.capitalize()"
   ]
  },
  {
   "cell_type": "markdown",
   "id": "e47f1d2b-c3b0-4aae-9bfd-fdede190b1dd",
   "metadata": {},
   "source": [
    "# 6. Write a difference between isalnum() and isalpha()"
   ]
  },
  {
   "cell_type": "code",
   "execution_count": 19,
   "id": "93f6844d-1c7b-4226-910e-5622aa19dd52",
   "metadata": {},
   "outputs": [],
   "source": [
    "# isalnum() checks whether the characters in the string are letters and numbers and isalpha() checks whether the characters in the string are alphabets(letters)\n",
    "# example \n",
    "a = \"arnavvk18\"\n",
    "b = \"arnav\""
   ]
  },
  {
   "cell_type": "code",
   "execution_count": 20,
   "id": "2c34342d-9113-48d5-b8b7-7bbc926d0e58",
   "metadata": {},
   "outputs": [
    {
     "data": {
      "text/plain": [
       "True"
      ]
     },
     "execution_count": 20,
     "metadata": {},
     "output_type": "execute_result"
    }
   ],
   "source": [
    "a.isalnum()"
   ]
  },
  {
   "cell_type": "code",
   "execution_count": 21,
   "id": "58e09a13-4154-49af-b989-eda21bfd613a",
   "metadata": {},
   "outputs": [
    {
     "data": {
      "text/plain": [
       "False"
      ]
     },
     "execution_count": 21,
     "metadata": {},
     "output_type": "execute_result"
    }
   ],
   "source": [
    "a.isalpha()"
   ]
  },
  {
   "cell_type": "code",
   "execution_count": 22,
   "id": "16be2564-0e67-4d5c-a66f-40aa94a07a6f",
   "metadata": {},
   "outputs": [
    {
     "data": {
      "text/plain": [
       "True"
      ]
     },
     "execution_count": 22,
     "metadata": {},
     "output_type": "execute_result"
    }
   ],
   "source": [
    "b.isalnum()"
   ]
  },
  {
   "cell_type": "code",
   "execution_count": 23,
   "id": "0c6b2960-02c4-4464-9726-a418e75f14f6",
   "metadata": {},
   "outputs": [
    {
     "data": {
      "text/plain": [
       "True"
      ]
     },
     "execution_count": 23,
     "metadata": {},
     "output_type": "execute_result"
    }
   ],
   "source": [
    "b.isalpha()"
   ]
  },
  {
   "cell_type": "markdown",
   "id": "10d609e5-ce6f-4317-a168-3e57cae5227d",
   "metadata": {},
   "source": [
    "# 7. Try to give an example of expand tab"
   ]
  },
  {
   "cell_type": "code",
   "execution_count": 24,
   "id": "47ff1416-c1b2-4d4f-92dd-3894554f75e8",
   "metadata": {},
   "outputs": [
    {
     "data": {
      "text/plain": [
       "' This   is      a       example'"
      ]
     },
     "execution_count": 24,
     "metadata": {},
     "output_type": "execute_result"
    }
   ],
   "source": [
    "exp=\" This\\tis\\ta\\texample\"\n",
    "exp.expandtabs()"
   ]
  },
  {
   "cell_type": "markdown",
   "id": "0eb94eac-770e-46ac-81c3-90371bf9cbdc",
   "metadata": {},
   "source": [
    "# 8. Give an example of strip, lstrip and rstrip"
   ]
  },
  {
   "cell_type": "code",
   "execution_count": 32,
   "id": "67b9ac7f-69d4-4bac-8c1f-9d9b8746405d",
   "metadata": {},
   "outputs": [],
   "source": [
    "# example of strip\n",
    "strip = \"@arnav_vk18\""
   ]
  },
  {
   "cell_type": "code",
   "execution_count": 33,
   "id": "42bb64d3-06a3-49dd-a3e4-127c363dce4f",
   "metadata": {},
   "outputs": [
    {
     "data": {
      "text/plain": [
       "'arnav_vk'"
      ]
     },
     "execution_count": 33,
     "metadata": {},
     "output_type": "execute_result"
    }
   ],
   "source": [
    "strip.strip(\"@18\")"
   ]
  },
  {
   "cell_type": "code",
   "execution_count": null,
   "id": "702011f6-5da0-4da3-8ca3-beb54b5ade1f",
   "metadata": {},
   "outputs": [],
   "source": []
  }
 ],
 "metadata": {
  "kernelspec": {
   "display_name": "Python 3 (ipykernel)",
   "language": "python",
   "name": "python3"
  },
  "language_info": {
   "codemirror_mode": {
    "name": "ipython",
    "version": 3
   },
   "file_extension": ".py",
   "mimetype": "text/x-python",
   "name": "python",
   "nbconvert_exporter": "python",
   "pygments_lexer": "ipython3",
   "version": "3.12.4"
  }
 },
 "nbformat": 4,
 "nbformat_minor": 5
}
